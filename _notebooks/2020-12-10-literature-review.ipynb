{
 "cells": [
  {
   "cell_type": "markdown",
   "metadata": {},
   "source": [
    "# Reviewing the literature\n",
    "> it is growing quite fast\n",
    "\n",
    "- toc: false\n",
    "- badges: true\n",
    "- comments: true\n",
    "- categories: [coswara,tutorial,covid]\n",
    "- image: images/chart-preview.png\n",
    "- author: Neeraj Sharma"
   ]
  },
  {
   "cell_type": "markdown",
   "metadata": {},
   "source": [
    "Often our group meets to discuss papers being published on the topic of using human sound recordings for designing COVID-19 screening techniques. In this page we mention these papers. There may be a lot more out there. In case you will like us to take note of your paper feel free to communicate with us.\n",
    "\n",
    "## COVID-19 Cough Classification using Machine Learning and Global Smartphone Recordings\n",
    "\n",
    "Authors: Madhurananda Pahar, Marisa Klopper, Robin Warren, and Thomas Niesler\n",
    "\n",
    "Available at: [arxiv](https://arxiv.org/abs/2012.01926)\n",
    "* Remarks: \n",
    "\n",
    "\n",
    "\n",
    "## Exploring Automatic Diagnosis of COVID-19 from Crowdsourced Respiratory Sound \n",
    "Authors: Chloë Brown, Jagmohan Chauhan, Andreas Grammenos, Jing Han, Apinan Hasthanasombat, Dimitris Spathis, Tong Xia, Pietro Cicuta, Cecilia Mascolo \n",
    "\n",
    "Available at: [KDD 2020](https://arxiv.org/pdf/2006.05919.pdf)\n",
    "\n",
    "## AI4COVID-19: AI Enabled Preliminary Diagnosis for COVID-19 from Cough Samples via an App\n",
    "Authors: Ali Imrana et al.\n",
    "\n",
    "Available at: [Elsevier](https://www.sciencedirect.com/science/article/pii/S2352914820303026)\n",
    "\n",
    "## A Framework for Biomarkers of COVID-19 Based on Coordination of Speech-Production Subsystems\n",
    "Authors: Thomas F. Quatieri et al.\n",
    "\n",
    "Available at: [IEEE](https://ieeexplore.ieee.org/document/9103574)\n",
    "\n",
    "## An Overview on Audio, Signal, Speech, & Language Processing for COVID-19\n",
    "Authors: Gauri Deshpande, Björn Schuller\n",
    "\n",
    "Available at: [arxiv](https://arxiv.org/abs/2005.08579)\n",
    "\n",
    "\n",
    "## COVID-19 Artificial Intelligence Diagnosis using only Cough Recordings\n",
    "Authors: Jordi Laguarta, Ferran Hueto, Brian Subirana\n",
    "\n",
    "Available at: [arxiv](https://ieeexplore.ieee.org/abstract/document/9208795)\n",
    "\n",
    "## Cough Against COVID: Evidence of COVID-19 Signature in Cough Sounds\n",
    "Authors: Piyush Bagad, Aman Dalmia, Jigar Doshi, Arsha Nagrani, Parag Bhamare, Amrita Mahale, Saurabh Rane, Neeraj Agarwal, Rahul Panicker\n",
    "\n",
    "Available at: [arxiv](https://arxiv.org/abs/2009.08790)\n",
    "* Remarks: This is a very well written paper, and presents the study design and experiment details in good depth. \n",
    "\n",
    "\n",
    "## Virufy: Global Applicability of Crowdsourced and Clinical Datasets for AI Detection of COVID-19 from Cough Audio Samples\n",
    "Authors: Gunvant Chaudhari, Xinyi Jiang, Ahmed Fakhry, Asriel Han, Jaclyn Xiao, Sabrina Shen, Amil Khanzada\n",
    "\n",
    "Available at: [arxiv](https://arxiv.org/abs/2011.13320)\n",
    "\n",
    "\n",
    "## The COUGHVID crowdsourcing dataset: A corpus for the study of large-scale cough analysis algorithms\n",
    "Authors: Lara Orlandic, Tomas Teijeiro, David Atienza\n",
    "\n",
    "Available at: [arxiv](https://arxiv.org/abs/2009.11644)\n"
   ]
  },
  {
   "cell_type": "code",
   "execution_count": null,
   "metadata": {
    "collapsed": true
   },
   "outputs": [],
   "source": []
  }
 ],
 "metadata": {
  "kernelspec": {
   "display_name": "Python 3",
   "language": "python",
   "name": "python3"
  },
  "language_info": {
   "codemirror_mode": {
    "name": "ipython",
    "version": 3
   },
   "file_extension": ".py",
   "mimetype": "text/x-python",
   "name": "python",
   "nbconvert_exporter": "python",
   "pygments_lexer": "ipython3",
   "version": "3.6.8"
  }
 },
 "nbformat": 4,
 "nbformat_minor": 2
}
