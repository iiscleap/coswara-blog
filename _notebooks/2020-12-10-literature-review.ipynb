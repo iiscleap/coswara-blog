{
 "cells": [
  {
   "cell_type": "markdown",
   "metadata": {},
   "source": [
    "# Reviewing the literature\n",
    "> it is growing quite fast\n",
    "\n",
    "- toc: false\n",
    "- badges: true\n",
    "- comments: true\n",
    "- categories: [coswara,tutorial,covid]\n",
    "- image: images/chart-preview.png\n",
    "- author: Neeraj Sharma"
   ]
  },
  {
   "cell_type": "markdown",
   "metadata": {},
   "source": [
    "Often our group meets to discuss papers being published on the topic of using human sound recordings for designing COVID-19 screening techniques. In this page we mention these papers. There may be a lot more out there. In case you will like us to take note of your paper feel free to communicate with us.\n",
    "\n",
    "\n",
    "\n",
    "## 1. [Coswara — A Database of Breathing, Cough, and Voice Sounds for COVID-19 Diagnosis](https://www.isca-speech.org/archive/Interspeech_2020/pdfs/2768.pdf)\n",
    "Authors: Neeraj Sharma, Prashant Krishnan, Rohit Kumar, Shreyas Ramoji, Srikanth Raj Chetupalli, Nirmala R., Prasanta Kumar Ghosh, Sriram Ganapathy\n",
    "\n",
    "Published: Interspeech 2020\n",
    "\n",
    "\n",
    "## 2. [Exploring Automatic Diagnosis of COVID-19 from Crowdsourced Respiratory Sound](https://arxiv.org/pdf/2006.05919.pdf)\n",
    "Authors: Chloë Brown, Jagmohan Chauhan, Andreas Grammenos, Jing Han, Apinan Hasthanasombat, Dimitris Spathis, Tong Xia, Pietro Cicuta, Cecilia Mascolo \n",
    "\n",
    "Published: KDD 2020\n",
    "\n",
    "## 3. [AI4COVID-19: AI Enabled Preliminary Diagnosis for COVID-19 from Cough Samples via an App](https://www.sciencedirect.com/science/article/pii/S2352914820303026)\n",
    "Authors: Ali Imrana et al.\n",
    "\n",
    "Published: Elsevier\n",
    "\n",
    "## 4. [A Framework for Biomarkers of COVID-19 Based on Coordination of Speech-Production Subsystems](https://ieeexplore.ieee.org/document/9103574)\n",
    "Authors: Thomas F. Quatieri et al.\n",
    "\n",
    "Published: IEEE\n",
    "\n",
    "## 5. [An Overview on Audio, Signal, Speech, & Language Processing for COVID-19](https://arxiv.org/abs/2005.08579)\n",
    "Authors: Gauri Deshpande, Björn Schuller\n",
    "\n",
    "Published: arxiv\n",
    "\n",
    "\n",
    "## 6. [COVID-19 Artificial Intelligence Diagnosis using only Cough Recordings](https://ieeexplore.ieee.org/abstract/document/9208795)\n",
    "Authors: Jordi Laguarta, Ferran Hueto, Brian Subirana\n",
    "\n",
    "Published: arxiv\n",
    "\n",
    "## 7. [Cough Against COVID: Evidence of COVID-19 Signature in Cough Sounds](https://arxiv.org/abs/2009.08790)\n",
    "Authors: Piyush Bagad, Aman Dalmia, Jigar Doshi, Arsha Nagrani, Parag Bhamare, Amrita Mahale, Saurabh Rane, Neeraj Agarwal, Rahul Panicker\n",
    "\n",
    "Published: arxiv\n",
    "* Remarks: This is a very well written paper, and presents the study design and experiment details in good depth. \n",
    "\n",
    "\n",
    "## 8. [Virufy: Global Applicability of Crowdsourced and Clinical Datasets for AI Detection of COVID-19 from Cough Audio Samples](https://arxiv.org/abs/2011.13320)\n",
    "Authors: Gunvant Chaudhari, Xinyi Jiang, Ahmed Fakhry, Asriel Han, Jaclyn Xiao, Sabrina Shen, Amil Khanzada\n",
    "\n",
    "Published: arxiv\n",
    "\n",
    "\n",
    "## 9. [The COUGHVID crowdsourcing dataset: A corpus for the study of large-scale cough analysis algorithms](https://arxiv.org/abs/2009.11644)\n",
    "Authors: Lara Orlandic, Tomas Teijeiro, David Atienza\n",
    "\n",
    "Published: arxiv\n",
    "\n",
    "## 10. [COVID-19 Cough Classification using Machine Learning and Global Smartphone Recordings](https://arxiv.org/abs/2012.01926)\n",
    "\n",
    "Authors: Madhurananda Pahar, Marisa Klopper, Robin Warren, and Thomas Niesler\n",
    "\n",
    "Published: [arxiv]\n",
    "\n",
    "\n",
    "\n"
   ]
  },
  {
   "cell_type": "code",
   "execution_count": null,
   "metadata": {
    "collapsed": true
   },
   "outputs": [],
   "source": []
  }
 ],
 "metadata": {
  "kernelspec": {
   "display_name": "Python 3",
   "language": "python",
   "name": "python3"
  },
  "language_info": {
   "codemirror_mode": {
    "name": "ipython",
    "version": 3
   },
   "file_extension": ".py",
   "mimetype": "text/x-python",
   "name": "python",
   "nbconvert_exporter": "python",
   "pygments_lexer": "ipython3",
   "version": "3.6.8"
  }
 },
 "nbformat": 4,
 "nbformat_minor": 2
}
