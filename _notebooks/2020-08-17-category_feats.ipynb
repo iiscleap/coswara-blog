{
 "cells": [
  {
   "cell_type": "markdown",
   "metadata": {},
   "source": [
    "# Coswara Categorywise Features\n",
    "\n",
    "> some visualizations\n",
    "\n",
    "- toc: false \n",
    "- badges: true\n",
    "- comments: true\n",
    "- categories: [coswara]\n",
    "- image: images/chart-preview.png\n",
    "- author: Neeraj Sharma"
   ]
  },
  {
   "cell_type": "markdown",
   "metadata": {},
   "source": [
    "## Here we provide some visualization of features\n",
    "\n",
    "### Narrowband spectrograms\n",
    "\n",
    "| Sound Category    | Healthy                                                 | COVID-19                                                |\n",
    "|-------------------|---------------------------------------------------------|---------------------------------------------------------|\n",
    "| cough shallow     | [Click here](https://github.com/iiscleap/coswara-blog/raw/master/_notebooks/my_images/coswara_healthy_cough-shallow_nb_spectgm.png) | [Click here](https://github.com/iiscleap/coswara-blog/raw/master/_notebooks/my_images/coswara_covid_cough-shallow_nb_spectgm.png)                                          |\n",
    "| cough heavy       | [Click here](https://github.com/iiscleap/coswara-blog/raw/master/_notebooks/my_images/coswara_healthy_cough-heavy_nb_spectgm.png)                                          | [Click here](https://github.com/iiscleap/coswara-blog/raw/master/_notebooks/my_images/coswara_covid_cough-heavy_nb_spectgm.png)                                          |\n",
    "| vowel-o           | [Click here](https://github.com/iiscleap/coswara-blog/raw/master/_notebooks/my_images/coswara_healthy_vowel-o_nb_spectgm.png)                                          | [Click here](https://github.com/iiscleap/coswara-blog/raw/master/_notebooks/my_images/coswara_covid_vowel-o_nb_spectgm.png)                                          |\n",
    "| vowel-e           | [Click here](https://github.com/iiscleap/coswara-blog/raw/master/_notebooks/my_images/coswara_healthy_vowel-e_nb_spectgm.png)                                          | [Click here](https://github.com/iiscleap/coswara-blog/raw/master/_notebooks/my_images/coswara_covid_vowel-e_nb_spectgm.png)                                          |\n",
    "| vowel-a           | [Click here](https://github.com/iiscleap/coswara-blog/raw/master/_notebooks/my_images/coswara_healthy_vowel-a_nb_spectgm.png)                                          | [Click here](https://github.com/iiscleap/coswara-blog/raw/master/_notebooks/my_images/coswara_covid_vowel-a_nb_spectgm.png)                                          |\n",
    "| breathing-shallow | [Click here](https://github.com/iiscleap/coswara-blog/raw/master/_notebooks/my_images/coswara_healthy_breathing-shallow_nb_spectgm.png)                                          | [Click here](https://github.com/iiscleap/coswara-blog/raw/master/_notebooks/my_images/coswara_covid_breathing-shallow_nb_spectgm.png)                                          |\n",
    "| breathing-deep    | [Click here](https://github.com/iiscleap/coswara-blog/raw/master/_notebooks/my_images/coswara_healthy_breathing-deep_nb_spectgm.png)                                          | [Click here](https://github.com/iiscleap/coswara-blog/raw/master/_notebooks/my_images/coswara_covid_breathing-deep_nb_spectgm.png)                                          |\n",
    "| counting-normal   | [Click here](https://github.com/iiscleap/coswara-blog/raw/master/_notebooks/my_images/coswara_healthy_counting-normal_nb_spectgm.png)                                          | [Click here](https://github.com/iiscleap/coswara-blog/raw/master/_notebooks/my_images/coswara_covid_counting-normal_nb_spectgm.png)                                          |\n",
    "| counting-fast     | [Click here](https://github.com/iiscleap/coswara-blog/raw/master/_notebooks/my_images/coswara_healthy_counting-fast_nb_spectgm.png) | [Click here](https://github.com/iiscleap/coswara-blog/raw/master/_notebooks/my_images/coswara_covid_counting-fast_nb_spectgm.png) |\n",
    "\n",
    "\n",
    "### Wideband spectrograms\n",
    "\n",
    "| Sound Category    | Healthy                                                 | COVID-19                                                |\n",
    "|-------------------|---------------------------------------------------------|---------------------------------------------------------|\n",
    "| cough shallow     | [Click here](https://github.com/iiscleap/coswara-blog/raw/master/_notebooks/my_images/coswara_healthy_cough-shallow_wb_spectgm.png) | [Click here](https://github.com/iiscleap/coswara-blog/raw/master/_notebooks/my_images/coswara_covid_cough-shallow_wb_spectgm.png)                                          |\n",
    "| cough heavy       | [Click here](https://github.com/iiscleap/coswara-blog/raw/master/_notebooks/my_images/coswara_healthy_cough-heavy_wb_spectgm.png)                                          | [Click here](https://github.com/iiscleap/coswara-blog/raw/master/_notebooks/my_images/coswara_covid_cough-heavy_wb_spectgm.png)                                          |\n",
    "| vowel-o           | [Click here](https://github.com/iiscleap/coswara-blog/raw/master/_notebooks/my_images/coswara_healthy_vowel-o_wb_spectgm.png)                                          | [Click here](https://github.com/iiscleap/coswara-blog/raw/master/_notebooks/my_images/coswara_covid_vowel-o_wb_spectgm.png)                                          |\n",
    "| vowel-e           | [Click here](https://github.com/iiscleap/coswara-blog/raw/master/_notebooks/my_images/coswara_healthy_vowel-e_wb_spectgm.png)                                          | [Click here](https://github.com/iiscleap/coswara-blog/raw/master/_notebooks/my_images/coswara_covid_vowel-e_wb_spectgm.png)                                          |\n",
    "| vowel-a           | [Click here](https://github.com/iiscleap/coswara-blog/raw/master/_notebooks/my_images/coswara_healthy_vowel-a_wb_spectgm.png)                                          | [Click here](https://github.com/iiscleap/coswara-blog/raw/master/_notebooks/my_images/coswara_covid_vowel-a_wb_spectgm.png)                                          |\n",
    "| breathing-shallow | [Click here](https://github.com/iiscleap/coswara-blog/raw/master/_notebooks/my_images/coswara_healthy_breathing-shallow_wb_spectgm.png)                                          | [Click here](https://github.com/iiscleap/coswara-blog/raw/master/_notebooks/my_images/coswara_covid_breathing-shallow_wb_spectgm.png)                                          |\n",
    "| breathing-deep    | [Click here](https://github.com/iiscleap/coswara-blog/raw/master/_notebooks/my_images/coswara_healthy_breathing-deep_wb_spectgm.png)                                          | [Click here](https://github.com/iiscleap/coswara-blog/raw/master/_notebooks/my_images/coswara_covid_breathing-deep_wb_spectgm.png)                                          |\n",
    "| counting-normal   | [Click here](https://github.com/iiscleap/coswara-blog/raw/master/_notebooks/my_images/coswara_healthy_counting-normal_wb_spectgm.png)                                          | [Click here](https://github.com/iiscleap/coswara-blog/raw/master/_notebooks/my_images/coswara_covid_counting-normal_wb_spectgm.png)                                          |\n",
    "| counting-fast     | [Click here](https://github.com/iiscleap/coswara-blog/raw/master/_notebooks/my_images/coswara_healthy_counting-fast_wb_spectgm.png) | [Click here](https://github.com/iiscleap/coswara-blog/raw/master/_notebooks/my_images/coswara_covid_counting-fast_wb_spectgm.png) |\n"
   ]
  },
  {
   "cell_type": "code",
   "execution_count": null,
   "metadata": {
    "collapsed": true
   },
   "outputs": [],
   "source": []
  }
 ],
 "metadata": {
  "kernelspec": {
   "display_name": "Python 3",
   "language": "python",
   "name": "python3"
  },
  "language_info": {
   "codemirror_mode": {
    "name": "ipython",
    "version": 3
   },
   "file_extension": ".py",
   "mimetype": "text/x-python",
   "name": "python",
   "nbconvert_exporter": "python",
   "pygments_lexer": "ipython3",
   "version": "3.6.8"
  }
 },
 "nbformat": 4,
 "nbformat_minor": 2
}
