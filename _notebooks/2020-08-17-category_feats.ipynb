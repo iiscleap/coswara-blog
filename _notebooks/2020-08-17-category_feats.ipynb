{
 "cells": [
  {
   "cell_type": "markdown",
   "metadata": {},
   "source": [
    "# Coswara Categorywise Features\n",
    "\n",
    "> Let's understand.\n",
    "\n",
    "- toc: false \n",
    "- badges: true\n",
    "- comments: true\n",
    "- categories: [coswara]\n",
    "- image: images/chart-preview.png\n",
    "- author: Neeraj Sharma"
   ]
  },
  {
   "cell_type": "markdown",
   "metadata": {},
   "source": [
    "## Here we provides some visualization of features\n",
    "\n",
    "### Spectrograms\n",
    "| Sound Category    | Healthy                                                 | COVID-19                                                |\n",
    "|-------------------|---------------------------------------------------------|---------------------------------------------------------|\n",
    "| cough shallow     | [Click here](https://github.com/iiscleap/coswara-blog/raw/master/_notebooks/my_images/coswara_healthy_cough-shallow_spectgm.png) | [Click here](https://github.com/iiscleap/coswara-blog/raw/master/_notebooks/my_images/coswara_covid_cough-shallow_spectgm.png)                                          |\n",
    "| cough heavy       | [Click here](https://github.com/iiscleap/coswara-blog/raw/master/_notebooks/my_images/coswara_healthy_cough-heavy_spectgm.png)                                          | [Click here](https://github.com/iiscleap/coswara-blog/raw/master/_notebooks/my_images/coswara_covid_cough-heavy_spectgm.png)                                          |\n",
    "| vowel-o           | [Click here](https://github.com/iiscleap/coswara-blog/raw/master/_notebooks/my_images/coswara_healthy_vowel-o_spectgm.png)                                          | [Click here](https://github.com/iiscleap/coswara-blog/raw/master/_notebooks/my_images/coswara_covid_vowel-o_spectgm.png)                                          |\n",
    "| vowel-e           | [Click here](https://github.com/iiscleap/coswara-blog/raw/master/_notebooks/my_images/coswara_healthy_vowel-e_spectgm.png)                                          | [Click here](https://github.com/iiscleap/coswara-blog/raw/master/_notebooks/my_images/coswara_covid_vowel-e_spectgm.png)                                          |\n",
    "| vowel-a           | [Click here](https://github.com/iiscleap/coswara-blog/raw/master/_notebooks/my_images/coswara_healthy_vowel-a_spectgm.png)                                          | [Click here](https://github.com/iiscleap/coswara-blog/raw/master/_notebooks/my_images/coswara_covid_vowel-a_spectgm.png)                                          |\n",
    "| breathing-shallow | [Click here](https://github.com/iiscleap/coswara-blog/raw/master/_notebooks/my_images/coswara_healthy_breathing-shallow_spectgm.png)                                          | [Click here](https://github.com/iiscleap/coswara-blog/raw/master/_notebooks/my_images/coswara_covid_breathing-shallow_spectgm.png)                                          |\n",
    "| breathing-deep    | [Click here](https://github.com/iiscleap/coswara-blog/raw/master/_notebooks/my_images/coswara_healthy_breathing-deep_spectgm.png)                                          | [Click here](https://github.com/iiscleap/coswara-blog/raw/master/_notebooks/my_images/coswara_covid_breathing-deep_spectgm.png)                                          |\n",
    "| counting-normal   | [Click here](https://github.com/iiscleap/coswara-blog/raw/master/_notebooks/my_images/coswara_healthy_counting-normal_spectgm.png)                                          | [Click here](https://github.com/iiscleap/coswara-blog/raw/master/_notebooks/my_images/coswara_covid_counting-normal_spectgm.png)                                          |\n",
    "| counting-fast     | [Click here](https://github.com/iiscleap/coswara-blog/raw/master/_notebooks/my_images/coswara_healthy_counting-fast_spectgm.png) | [Click here](https://github.com/iiscleap/coswara-blog/raw/master/_notebooks/my_images/coswara_covid_counting-fast_spectgm.png) |\n",
    "|                   |                                                         |                                                         |\n",
    "|                   |                                                         |                                                         |"
   ]
  },
  {
   "cell_type": "markdown",
   "metadata": {},
   "source": []
  },
  {
   "cell_type": "code",
   "execution_count": null,
   "metadata": {
    "collapsed": true
   },
   "outputs": [],
   "source": []
  }
 ],
 "metadata": {
  "kernelspec": {
   "display_name": "Python 3",
   "language": "python",
   "name": "python3"
  },
  "language_info": {
   "codemirror_mode": {
    "name": "ipython",
    "version": 3
   },
   "file_extension": ".py",
   "mimetype": "text/x-python",
   "name": "python",
   "nbconvert_exporter": "python",
   "pygments_lexer": "ipython3",
   "version": "3.6.8"
  }
 },
 "nbformat": 4,
 "nbformat_minor": 2
}
