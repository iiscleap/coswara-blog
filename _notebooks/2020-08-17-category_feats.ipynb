{
 "cells": [
  {
   "cell_type": "markdown",
   "metadata": {},
   "source": [
    "# Coswara Categorywise Features\n",
    "\n",
    "> Let's understand.\n",
    "\n",
    "- toc: false \n",
    "- badges: true\n",
    "- comments: true\n",
    "- categories: [coswara]\n",
    "- image: images/chart-preview.png\n",
    "- author: Neeraj Sharma"
   ]
  },
  {
   "cell_type": "markdown",
   "metadata": {},
   "source": [
    "## Here we provides some visualization of features\n",
    "\n",
    "### Spectrograms\n",
    "| Sound Category    | Healthy                                                 | COVID-19                                                |\n",
    "|-------------------|---------------------------------------------------------|---------------------------------------------------------|\n",
    "| cough shallow     | [Click here](./my_images/coswara_healthy_cough-shallow.png) | [Click here](./my_images/coswara_covid_cough-shallow.png)                                          |\n",
    "| cough heavy       | [Click here](./my_images/coswara_healthy_cough-heavy.png)                                          | [Click here]((./my_images/coswara_covid_cough-shallow.png))                                          |\n",
    "| vowel-o           | [Click here]((./my_images/coswara_healthy_vowel-o.png))                                          | [Click here]((./my_images/coswara_covid_vowel-o.png))                                          |\n",
    "| vowel-e           | [Click here]((./my_images/coswara_healthy_vowel-e.png))                                          | [Click here]((./my_images/coswara_covid_vowel-e.png))                                          |\n",
    "| vowel-a           | [Click here]((./my_images/coswara_healthy_vowel-o.png))                                          | [Click here]((./my_images/coswara_covid_vowel-o.png))                                          |\n",
    "| breathing-shallow | [Click here]((./my_images/coswara_healthy_breathing-shallow.png))                                          | [Click here]()                                          |\n",
    "| breathing-deep    | [Click here]()                                          | [Click here]()                                          |\n",
    "| counting-normal   | [Click here]()                                          | [Click here]()                                          |\n",
    "| counting-fast     | [Click here](./my_images/coswara_healthy_counting-fast_spectgm.png) | [Click here](coswara_healthy_counting-fast_spectgm.png) |\n",
    "|                   |                                                         |                                                         |\n",
    "|                   |                                                         |                                                         |"
   ]
  },
  {
   "cell_type": "markdown",
   "metadata": {},
   "source": []
  },
  {
   "cell_type": "code",
   "execution_count": null,
   "metadata": {
    "collapsed": true
   },
   "outputs": [],
   "source": []
  }
 ],
 "metadata": {
  "kernelspec": {
   "display_name": "Python 3",
   "language": "python",
   "name": "python3"
  },
  "language_info": {
   "codemirror_mode": {
    "name": "ipython",
    "version": 3
   },
   "file_extension": ".py",
   "mimetype": "text/x-python",
   "name": "python",
   "nbconvert_exporter": "python",
   "pygments_lexer": "ipython3",
   "version": "3.6.8"
  }
 },
 "nbformat": 4,
 "nbformat_minor": 2
}
