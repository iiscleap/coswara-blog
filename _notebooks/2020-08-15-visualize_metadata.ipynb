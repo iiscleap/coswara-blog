{
 "cells": [
  {
   "cell_type": "markdown",
   "metadata": {},
   "source": [
    "# Metadata visualization \n",
    "> Some bar plots and histograms.\n",
    "\n",
    "- toc: true \n",
    "- badges: true\n",
    "- comments: true\n",
    "- categories: [coswara]\n",
    "- image: images/chart-preview.png\n",
    "- author: Neeraj Sharma"
   ]
  },
  {
   "cell_type": "markdown",
   "metadata": {},
   "source": [
    "\n",
    "The coswara database is created by crowdsourcing respiratory sound samples. In this post we will visualize the crowd (or participant) distribution along certain dimensions collected in metadata questionaire. We will read the CSV file containing the metadata information of all the users (as on 07 August 2020)."
   ]
  },
  {
   "cell_type": "code",
   "execution_count": 9,
   "metadata": {},
   "outputs": [
    {
     "data": {
      "image/png": "[encoded data removed]",
      "text/plain": [
       "<Figure size 144x288 with 1 Axes>"
      ]
     },
     "metadata": {},
     "output_type": "display_data"
    }
   ],
   "source": [
    "#collapse_show\n",
    "# import some packages\n",
    "import numpy as np\n",
    "import matplotlib.pyplot as plt\n",
    "import seaborn as sns \n",
    "import pandas as pd\n",
    "from sklearn import datasets, linear_model\n",
    "from sklearn.metrics import mean_squared_error, r2_score\n",
    "from matplotlib.ticker import (MultipleLocator, FormatStrFormatter,\n",
    "                               AutoMinorLocator)\n",
    "sns.set_style(\"white\")\n",
    "sns.set_style(\"ticks\")\n",
    "\n",
    "# load CSV file\n",
    "fname = 'combined_plus_annotated_IS2020.csv'\n",
    "DF = pd.read_csv('./my_data/'+fname)\n",
    "\n",
    "# plot data\n",
    "gender_labels = DF['g'].unique()\n",
    "gender_cnt = []\n",
    "for i in range(len(gender_labels)):\n",
    "    gender_cnt.append(len(DF[(DF['g'] == gender_labels[i]) & DF['cough-heavy-quality']]))\n",
    "\n",
    "fig, ax = plt.subplots(figsize=(2, 4))\n",
    "ax.bar(2,gender_cnt[0], align='center',alpha=1, ecolor='black',capsize=5,hatch=\"\\\\\\\\\",color='blue',width=.5)\n",
    "ax.bar(4,gender_cnt[1], align='center',alpha=1, ecolor='black',capsize=5,hatch=\"//\",color='blue',width=.5)\n",
    "for i, v in enumerate(gender_cnt):\n",
    "    ax.text(2*(i+1)-.3,v + 3, str(v), color='black', fontweight='bold',fontsize=14)\n",
    "plt.xticks([2,4], ['MALE','FEMALE'],rotation=0)\n",
    "plt.ylabel('COUNT', fontsize=14)\n",
    "plt.xticks(fontsize=13)\n",
    "plt.yticks(fontsize=13)\n",
    "# ax.set_xlim(0,5)\n",
    "# ax.set_ylim(200,1500)\n",
    "ax.grid(True)\n",
    "ax.spines['right'].set_visible(False)\n",
    "ax.spines['top'].set_visible(False)  \n",
    "plt.show()"
   ]
  }
 ],
 "metadata": {
  "kernelspec": {
   "display_name": "Python 3",
   "language": "python",
   "name": "python3"
  },
  "language_info": {
   "codemirror_mode": {
    "name": "ipython",
    "version": 3
   },
   "file_extension": ".py",
   "mimetype": "text/x-python",
   "name": "python",
   "nbconvert_exporter": "python",
   "pygments_lexer": "ipython3",
   "version": "3.6.8"
  }
 },
 "nbformat": 4,
 "nbformat_minor": 2
}
