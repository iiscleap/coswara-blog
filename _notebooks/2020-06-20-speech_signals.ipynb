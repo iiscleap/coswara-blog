{
 "cells": [
  {
   "cell_type": "markdown",
   "metadata": {
    "collapsed": true
   },
   "source": [
    "# Speech signals - a wonder!\n",
    "> Let's take a peek.\n",
    "\n",
    "- toc: False \n",
    "- badges: true\n",
    "- comments: true\n",
    "- categories: [coswara]\n",
    "- image: images/chart-preview.png\n",
    "- author: Neeraj Sharma"
   ]
  },
  {
   "cell_type": "markdown",
   "metadata": {},
   "source": [
    "##  Some context\n",
    "\n",
    "\"Tring, tring\",... your phone is ringing. You pick it, and hear - \"Hello, what's up?\". Often, this sound, pouring into your ears, will inform you about the gender of the talker, the identity, and the emotion. Isn't this fascinating? With only 2-3 secs of sound signal, the human brain has estimated so much about the talker. As the converstation progresses, you will be able to even estimate the personality, and the health status of the talker. Speech signal is immensely rich in information, and our brain is trained, since our childhood, to extract a lot from it.\n",
    "\n",
    "## Speech \n",
    "\n",
    "Let's see how this fascinating sound signal -speech, is produced. You inhale a breath, the air enters your lungs and creates a high pressure. When you speak, a sequence of co-ordinated mechanical processes are initiated, flexing the vocal tract muscles, and the result is the release of air pressure from mouth and nose. If you don't believe this - just pause - take a deep breathe, and read aloud the previous line. Didn't you exhale while reading it! The co-ordinated mechanical processes involved during speaking are a miracle. Just to give a context, human beings are the only species on earth which can produce the diverse range of acoustic sounds making up our the vocal communication repository. Biology suggests that the reason is linked to the [FOXP2 gene](https://www.nature.com/news/2009/091111/full/news.2009.1079.html) - found only in humans. Every human is unique, and this uniqueness also reflects in the speech signals which allows us to easily recognize the voice of many.\n",
    "\n",
    "\n",
    "## Recording speech\n",
    "\n",
    "Satisfying the human curisoity to record speech signals was a challenge. How do you store the speech sounds? Speak into a jar, close the lid, and open it, and bingo, you hear it! Sorry, physics won't allow this happen. In late 19th century, phonograph was invented, a beutiful mind behind this was Thomas Edison. As time progressed, this became popular to record music, and lead to gramophone, magentic tape cassetes, and compact discs. Now we just store it in solid state semiconductor drives without worrying about how! Technology has been a blessing when you consider the seamless manner in which we capture, store, process, and playback speech, music, and images.\n",
    "\n",
    "## Processing speech\n",
    "\n",
    "Cool! we are able to record sound signals. Let's move on to processing sound signals. Can we design machine systems which extract information from sound signals? For instance, can machines perform speech recognition, speaker recognition, emotion recognition, and ... the list can go on.\n",
    "Our brains does all this. It shouldn't be impossible to design machines to do this, and beyond this too! Well, automatic speech recognition is now a reality, and accessible in our mobile phones/laptops. Challenges exist when the speech recording is noisy, accented, not in English, or has multiple talkers etc. For single talker, clean recording, American/British accent, English speech, the machine systems work quite well. Similar is the performance for talker recognition as well. What is the key behind this technology? Welcome, to the world of data analysis and machine learning.\n",
    "\n",
    "## Enters signal processing\n",
    "\n",
    "In the follow-up posts we will discuss about to process and analyze speech signals using python! Looking forward to have you in this expedition!"
   ]
  },
  {
   "cell_type": "code",
   "execution_count": null,
   "metadata": {
    "collapsed": true
   },
   "outputs": [],
   "source": []
  }
 ],
 "metadata": {
  "kernelspec": {
   "display_name": "Python 3",
   "language": "python",
   "name": "python3"
  },
  "language_info": {
   "codemirror_mode": {
    "name": "ipython",
    "version": 3
   },
   "file_extension": ".py",
   "mimetype": "text/x-python",
   "name": "python",
   "nbconvert_exporter": "python",
   "pygments_lexer": "ipython3",
   "version": "3.6.8"
  }
 },
 "nbformat": 4,
 "nbformat_minor": 2
}
